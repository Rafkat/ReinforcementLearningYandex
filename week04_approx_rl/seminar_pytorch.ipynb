{
 "cells": [
  {
   "cell_type": "markdown",
   "metadata": {
    "id": "kr_aKWMGEmh-"
   },
   "source": [
    "# Approximate q-learning\n",
    "\n",
    "In this notebook you will teach a __PyTorch__ neural network to do Q-learning."
   ]
  },
  {
   "cell_type": "code",
   "metadata": {
    "id": "oaMu65ONEmh_",
    "ExecuteTime": {
     "end_time": "2025-08-21T15:59:14.553649Z",
     "start_time": "2025-08-21T15:59:14.549576Z"
    }
   },
   "source": [
    "import sys, os\n",
    "if 'google.colab' in sys.modules and not os.path.exists('.setup_complete'):\n",
    "    !wget -q https://raw.githubusercontent.com/yandexdataschool/Practical_RL/master/setup_colab.sh -O- | bash\n",
    "    !touch .setup_complete\n",
    "\n",
    "# This code creates a virtual display to draw game images on.\n",
    "# It will have no effect if your machine has a monitor.\n",
    "if type(os.environ.get(\"DISPLAY\")) is not str or len(os.environ.get(\"DISPLAY\")) == 0:\n",
    "    !bash ../xvfb start\n",
    "    os.environ['DISPLAY'] = ':1'"
   ],
   "outputs": [],
   "execution_count": 1
  },
  {
   "cell_type": "code",
   "metadata": {
    "id": "avILCRKkEpaX",
    "ExecuteTime": {
     "end_time": "2025-08-21T15:59:15.288789Z",
     "start_time": "2025-08-21T15:59:14.559942Z"
    }
   },
   "source": [
    "!pip install gymnasium[classic_control]"
   ],
   "outputs": [
    {
     "name": "stdout",
     "output_type": "stream",
     "text": [
      "Requirement already satisfied: gymnasium[classic_control] in /home/rafkat/my_projects/ReinforcementLearningYandex/.venv/lib/python3.10/site-packages (1.2.0)\r\n",
      "Requirement already satisfied: numpy>=1.21.0 in /home/rafkat/my_projects/ReinforcementLearningYandex/.venv/lib/python3.10/site-packages (from gymnasium[classic_control]) (2.2.6)\r\n",
      "Requirement already satisfied: cloudpickle>=1.2.0 in /home/rafkat/my_projects/ReinforcementLearningYandex/.venv/lib/python3.10/site-packages (from gymnasium[classic_control]) (3.1.1)\r\n",
      "Requirement already satisfied: typing-extensions>=4.3.0 in /home/rafkat/my_projects/ReinforcementLearningYandex/.venv/lib/python3.10/site-packages (from gymnasium[classic_control]) (4.14.1)\r\n",
      "Requirement already satisfied: farama-notifications>=0.0.1 in /home/rafkat/my_projects/ReinforcementLearningYandex/.venv/lib/python3.10/site-packages (from gymnasium[classic_control]) (0.0.4)\r\n",
      "Requirement already satisfied: pygame>=2.1.3 in /home/rafkat/my_projects/ReinforcementLearningYandex/.venv/lib/python3.10/site-packages (from gymnasium[classic_control]) (2.6.1)\r\n",
      "\r\n",
      "\u001B[1m[\u001B[0m\u001B[34;49mnotice\u001B[0m\u001B[1;39;49m]\u001B[0m\u001B[39;49m A new release of pip is available: \u001B[0m\u001B[31;49m25.1.1\u001B[0m\u001B[39;49m -> \u001B[0m\u001B[32;49m25.2\u001B[0m\r\n",
      "\u001B[1m[\u001B[0m\u001B[34;49mnotice\u001B[0m\u001B[1;39;49m]\u001B[0m\u001B[39;49m To update, run: \u001B[0m\u001B[32;49mpip install --upgrade pip\u001B[0m\r\n"
     ]
    }
   ],
   "execution_count": 2
  },
  {
   "cell_type": "code",
   "metadata": {
    "id": "K_SRk2ASEmh_",
    "ExecuteTime": {
     "end_time": "2025-08-21T15:59:15.748731Z",
     "start_time": "2025-08-21T15:59:15.289439Z"
    }
   },
   "source": [
    "import gymnasium as gym\n",
    "import numpy as np\n",
    "import pandas as pd\n",
    "import matplotlib.pyplot as plt\n",
    "%matplotlib inline"
   ],
   "outputs": [],
   "execution_count": 3
  },
  {
   "cell_type": "code",
   "metadata": {
    "id": "x2YvkgprEmh_",
    "ExecuteTime": {
     "end_time": "2025-08-21T15:59:16.065787Z",
     "start_time": "2025-08-21T15:59:15.749314Z"
    }
   },
   "source": [
    "env = gym.make(\"CartPole-v1\", render_mode=\"rgb_array\").env\n",
    "env.reset()\n",
    "n_actions = env.action_space.n\n",
    "state_dim = env.observation_space.shape\n",
    "\n",
    "plt.imshow(env.render())\n",
    "env.close()"
   ],
   "outputs": [
    {
     "name": "stderr",
     "output_type": "stream",
     "text": [
      "/home/rafkat/my_projects/ReinforcementLearningYandex/.venv/lib/python3.10/site-packages/pygame/pkgdata.py:25: UserWarning: pkg_resources is deprecated as an API. See https://setuptools.pypa.io/en/latest/pkg_resources.html. The pkg_resources package is slated for removal as early as 2025-11-30. Refrain from using this package or pin to Setuptools<81.\n",
      "  from pkg_resources import resource_stream, resource_exists\n"
     ]
    },
    {
     "data": {
      "text/plain": [
       "<Figure size 640x480 with 1 Axes>"
      ],
      "image/png": "[encoded data removed]"
     },
     "metadata": {},
     "output_type": "display_data"
    }
   ],
   "execution_count": 4
  },
  {
   "cell_type": "markdown",
   "metadata": {
    "id": "sI8W19CwEmh_"
   },
   "source": [
    "# Approximate Q-learning: building the network\n",
    "\n",
    "To train a neural network policy one must have a neural network policy. Let's build it.\n",
    "\n",
    "\n",
    "Since we're working with a pre-extracted features (cart positions, angles and velocities), we don't need a complicated network yet. In fact, let's build something like this for starters:\n",
    "\n",
    "![img](https://raw.githubusercontent.com/yandexdataschool/Practical_RL/master/yet_another_week/_resource/qlearning_scheme.png)\n",
    "\n",
    "For your first run, please only use linear layers (`nn.Linear`) and activations. Stuff like batch normalization or dropout may ruin everything if used haphazardly.\n",
    "\n",
    "Also please avoid using nonlinearities like sigmoid & tanh: since agent's observations are not normalized, sigmoids might be saturated at initialization. Instead, use non-saturating nonlinearities like ReLU.\n",
    "\n",
    "Ideally you should start small with maybe 1-2 hidden layers with < 200 neurons and then increase network size if agent doesn't beat the target score."
   ]
  },
  {
   "cell_type": "code",
   "metadata": {
    "id": "YdWXv8WJEmiA",
    "ExecuteTime": {
     "end_time": "2025-08-21T15:59:19.261680Z",
     "start_time": "2025-08-21T15:59:18.340870Z"
    }
   },
   "source": [
    "import torch\n",
    "import torch.nn as nn\n",
    "import torch.nn.functional as F"
   ],
   "outputs": [],
   "execution_count": 5
  },
  {
   "cell_type": "code",
   "metadata": {
    "id": "y2-PcaIQEmiA",
    "ExecuteTime": {
     "end_time": "2025-08-21T16:01:36.660121Z",
     "start_time": "2025-08-21T16:01:36.638132Z"
    }
   },
   "source": [
    "network = nn.Sequential()\n",
    "\n",
    "network.add_module('layer1', nn.Linear(state_dim[0], 64))\n",
    "network.add_module('act1', nn.ReLU())\n",
    "network.add_module('layer2', nn.Linear(64, 64))\n",
    "network.add_module('act2', nn.ReLU())\n",
    "network.add_module('output', nn.Linear(64, n_actions))\n",
    "\n",
    "# <YOUR CODE: stack layers!!!1>\n",
    "\n",
    "# hint: use state_dim[0] as input size"
   ],
   "outputs": [],
   "execution_count": 6
  },
  {
   "cell_type": "code",
   "metadata": {
    "id": "8xuWPGriEmiA",
    "ExecuteTime": {
     "end_time": "2025-08-21T16:01:37.036096Z",
     "start_time": "2025-08-21T16:01:37.033592Z"
    }
   },
   "source": [
    "def get_action(state, epsilon=0):\n",
    "    \"\"\"\n",
    "    sample actions with epsilon-greedy policy\n",
    "    recap: with p = epsilon pick random action, else pick action with highest Q(s,a)\n",
    "    \"\"\"\n",
    "    state = torch.tensor(state[None], dtype=torch.float32)\n",
    "    q_values = network(state).detach().numpy()\n",
    "    action = np.random.choice(list(range(n_actions))) if np.random.random() < epsilon else np.argmax(q_values)\n",
    "    # <YOUR CODE>\n",
    "\n",
    "    # return int( <YOUR CODE: epsilon-greedily selected action> )\n",
    "    return int(action)"
   ],
   "outputs": [],
   "execution_count": 7
  },
  {
   "cell_type": "code",
   "metadata": {
    "id": "wroEfSRNEmiA",
    "ExecuteTime": {
     "end_time": "2025-08-21T16:01:41.670211Z",
     "start_time": "2025-08-21T16:01:40.615298Z"
    }
   },
   "source": [
    "s, _ = env.reset()\n",
    "assert tuple(network(torch.tensor([s]*3, dtype=torch.float32)).size()) == (\n",
    "    3, n_actions), \"please make sure your model maps state s -> [Q(s,a0), ..., Q(s, a_last)]\"\n",
    "assert isinstance(list(network.modules(\n",
    "))[-1], nn.Linear), \"please make sure you predict q-values without nonlinearity (ignore if you know what you're doing)\"\n",
    "assert isinstance(get_action(s), int), \"get_action(s) must return int, not %s. try int(action)\" % (type(get_action(s)))\n",
    "\n",
    "# test epsilon-greedy exploration\n",
    "for eps in [0., 0.1, 0.5, 1.0]:\n",
    "    state_frequencies = np.bincount(\n",
    "        [get_action(s, epsilon=eps) for i in range(10000)], minlength=n_actions)\n",
    "    best_action = state_frequencies.argmax()\n",
    "    assert abs(state_frequencies[best_action] -\n",
    "               10000 * (1 - eps + eps / n_actions)) < 200\n",
    "    for other_action in range(n_actions):\n",
    "        if other_action != best_action:\n",
    "            assert abs(state_frequencies[other_action] -\n",
    "                       10000 * (eps / n_actions)) < 200\n",
    "    print('e=%.1f tests passed' % eps)"
   ],
   "outputs": [
    {
     "name": "stderr",
     "output_type": "stream",
     "text": [
      "/tmp/ipykernel_4798/4260395292.py:2: UserWarning: Creating a tensor from a list of numpy.ndarrays is extremely slow. Please consider converting the list to a single numpy.ndarray with numpy.array() before converting to a tensor. (Triggered internally at /pytorch/torch/csrc/utils/tensor_new.cpp:254.)\n",
      "  assert tuple(network(torch.tensor([s]*3, dtype=torch.float32)).size()) == (\n"
     ]
    },
    {
     "name": "stdout",
     "output_type": "stream",
     "text": [
      "e=0.0 tests passed\n",
      "e=0.1 tests passed\n",
      "e=0.5 tests passed\n",
      "e=1.0 tests passed\n"
     ]
    }
   ],
   "execution_count": 8
  },
  {
   "cell_type": "markdown",
   "metadata": {
    "id": "f88ovLBQEmiA"
   },
   "source": [
    "### Q-learning via gradient descent\n",
    "\n",
    "We shall now train our agent's Q-function by minimizing the TD loss:\n",
    "$$ L = { 1 \\over N} \\sum_i (Q_{\\theta}(s,a) - [r(s,a) + \\gamma \\cdot max_{a'} Q_{-}(s', a')]) ^2 $$\n",
    "\n",
    "\n",
    "Where\n",
    "* $s, a, r, s'$ are current state, action, reward and next state respectively\n",
    "* $\\gamma$ is a discount factor defined two cells above.\n",
    "\n",
    "The tricky part is with  $Q_{-}(s',a')$. From an engineering standpoint, it's the same as $Q_{\\theta}$ - the output of your neural network policy. However, when doing gradient descent, __we won't propagate gradients through it__ to make training more stable (see lectures).\n",
    "\n",
    "To do so, we shall use `x.detach()` function which basically says \"consider this thing constant when doing backprop\"."
   ]
  },
  {
   "cell_type": "code",
   "metadata": {
    "id": "bOIpO142EmiB",
    "ExecuteTime": {
     "end_time": "2025-08-21T16:13:46.197208Z",
     "start_time": "2025-08-21T16:13:46.194107Z"
    }
   },
   "source": [
    "def compute_td_loss(states, actions, rewards, next_states, is_done, gamma=0.99, check_shapes=False):\n",
    "    \"\"\" Compute td loss using torch operations only. Use the formula above. \"\"\"\n",
    "    states = torch.tensor(\n",
    "        states, dtype=torch.float32)                                  # shape: [batch_size, state_size]\n",
    "    actions = torch.tensor(actions, dtype=torch.long)                 # shape: [batch_size]\n",
    "    rewards = torch.tensor(rewards, dtype=torch.float32)              # shape: [batch_size]\n",
    "    # shape: [batch_size, state_size]\n",
    "    next_states = torch.tensor(next_states, dtype=torch.float32)\n",
    "    is_done = torch.tensor(is_done, dtype=torch.uint8)                # shape: [batch_size]\n",
    "\n",
    "    # get q-values for all actions in current states\n",
    "    predicted_qvalues = network(states)                               # shape: [batch_size, n_actions]\n",
    "\n",
    "    # select q-values for chosen actions\n",
    "    predicted_qvalues_for_actions = predicted_qvalues[                # shape: [batch_size]\n",
    "      range(states.shape[0]), actions\n",
    "    ]\n",
    "\n",
    "    # compute q-values for all actions in next states\n",
    "    predicted_next_qvalues = network(next_states)  #<YOUR CODE>\n",
    "\n",
    "    # compute V*(next_states) using predicted next q-values\n",
    "    next_state_values = torch.max(predicted_next_qvalues, dim=1)[0]  # <YOUR CODE>\n",
    "    assert next_state_values.dtype == torch.float32\n",
    "\n",
    "    # compute \"target q-values\" for loss - it's what's inside square parentheses in the above formula.\n",
    "    target_qvalues_for_actions = rewards + gamma * next_state_values   #<YOUR CODE>\n",
    "\n",
    "    # at the last state we shall use simplified formula: Q(s,a) = r(s,a) since s' doesn't exist\n",
    "    target_qvalues_for_actions = torch.where(\n",
    "        is_done, rewards, target_qvalues_for_actions)\n",
    "\n",
    "    # mean squared error loss to minimize\n",
    "    loss = torch.mean((predicted_qvalues_for_actions -\n",
    "                       target_qvalues_for_actions.detach()) ** 2)\n",
    "\n",
    "    if check_shapes:\n",
    "        assert predicted_next_qvalues.data.dim(\n",
    "        ) == 2, \"make sure you predicted q-values for all actions in next state\"\n",
    "        assert next_state_values.data.dim(\n",
    "        ) == 1, \"make sure you computed V(s') as maximum over just the actions axis and not all axes\"\n",
    "        assert target_qvalues_for_actions.data.dim(\n",
    "        ) == 1, \"there's something wrong with target q-values, they must be a vector\"\n",
    "\n",
    "    return loss"
   ],
   "outputs": [],
   "execution_count": 16
  },
  {
   "cell_type": "code",
   "metadata": {
    "id": "lKi6AK3DEmiB",
    "ExecuteTime": {
     "end_time": "2025-08-21T16:13:46.532380Z",
     "start_time": "2025-08-21T16:13:46.528376Z"
    }
   },
   "source": [
    "# sanity checks\n",
    "s, _ = env.reset()\n",
    "a = env.action_space.sample()\n",
    "next_s, r, terminated, _, _ = env.step(a)\n",
    "loss = compute_td_loss([s], [a], [r], [next_s], [terminated], check_shapes=True)\n",
    "loss.backward()\n",
    "\n",
    "assert len(loss.size()) == 0, \"you must return scalar loss - mean over batch\"\n",
    "assert np.any(next(network.parameters()).grad.detach().numpy() !=\n",
    "              0), \"loss must be differentiable w.r.t. network weights\""
   ],
   "outputs": [],
   "execution_count": 17
  },
  {
   "cell_type": "markdown",
   "metadata": {
    "id": "LgL6G5lFEmiB"
   },
   "source": [
    "### Playing the game"
   ]
  },
  {
   "cell_type": "code",
   "metadata": {
    "id": "zsHb_fjjEmiB",
    "ExecuteTime": {
     "end_time": "2025-08-21T16:06:06.439690Z",
     "start_time": "2025-08-21T16:06:05.870454Z"
    }
   },
   "source": [
    "opt = torch.optim.Adam(network.parameters(), lr=1e-4)"
   ],
   "outputs": [],
   "execution_count": 15
  },
  {
   "cell_type": "code",
   "metadata": {
    "id": "nJ_-xtsjEmiB",
    "ExecuteTime": {
     "end_time": "2025-08-21T16:14:51.573439Z",
     "start_time": "2025-08-21T16:14:51.571034Z"
    }
   },
   "source": [
    "def generate_session(env, t_max=1000, epsilon=0, train=False):\n",
    "    \"\"\"play env with approximate q-learning agent and train it at the same time\"\"\"\n",
    "    total_reward = 0\n",
    "    s, _ = env.reset()\n",
    "\n",
    "    for t in range(t_max):\n",
    "        a = get_action(s, epsilon=epsilon)\n",
    "        next_s, r, terminated, truncated, _ = env.step(a)\n",
    "\n",
    "        if train:\n",
    "            opt.zero_grad()\n",
    "            compute_td_loss([s], [a], [r], [next_s], [terminated]).backward()\n",
    "            opt.step()\n",
    "\n",
    "        total_reward += r\n",
    "        s = next_s\n",
    "        if terminated or truncated:\n",
    "            break\n",
    "\n",
    "    return total_reward"
   ],
   "outputs": [],
   "execution_count": 18
  },
  {
   "cell_type": "code",
   "metadata": {
    "id": "40mKYuVIEmiB",
    "ExecuteTime": {
     "end_time": "2025-08-21T16:14:52.848815Z",
     "start_time": "2025-08-21T16:14:52.846909Z"
    }
   },
   "source": [
    "epsilon = 0.5"
   ],
   "outputs": [],
   "execution_count": 19
  },
  {
   "cell_type": "code",
   "metadata": {
    "id": "EXy8ij00EmiB",
    "ExecuteTime": {
     "end_time": "2025-08-21T16:19:33.354833Z",
     "start_time": "2025-08-21T16:15:01.103291Z"
    }
   },
   "source": [
    "for i in range(1000):\n",
    "    session_rewards = [generate_session(env, epsilon=epsilon, train=True) for _ in range(100)]\n",
    "    print(\"epoch #{}\\tmean reward = {:.3f}\\tepsilon = {:.3f}\".format(i, np.mean(session_rewards), epsilon))\n",
    "\n",
    "    epsilon *= 0.99\n",
    "    assert epsilon >= 1e-4, \"Make sure epsilon is always nonzero during training\"\n",
    "\n",
    "    if np.mean(session_rewards) > 300:\n",
    "        print(\"You Win!\")\n",
    "        break"
   ],
   "outputs": [
    {
     "name": "stdout",
     "output_type": "stream",
     "text": [
      "epoch #0\tmean reward = 13.320\tepsilon = 0.500\n",
      "epoch #1\tmean reward = 14.020\tepsilon = 0.495\n",
      "epoch #2\tmean reward = 13.220\tepsilon = 0.490\n",
      "epoch #3\tmean reward = 15.320\tepsilon = 0.485\n",
      "epoch #4\tmean reward = 13.470\tepsilon = 0.480\n",
      "epoch #5\tmean reward = 14.790\tepsilon = 0.475\n",
      "epoch #6\tmean reward = 19.410\tepsilon = 0.471\n",
      "epoch #7\tmean reward = 17.630\tepsilon = 0.466\n",
      "epoch #8\tmean reward = 28.000\tepsilon = 0.461\n",
      "epoch #9\tmean reward = 30.610\tepsilon = 0.457\n",
      "epoch #10\tmean reward = 39.760\tepsilon = 0.452\n",
      "epoch #11\tmean reward = 40.800\tepsilon = 0.448\n",
      "epoch #12\tmean reward = 48.400\tepsilon = 0.443\n",
      "epoch #13\tmean reward = 65.480\tepsilon = 0.439\n",
      "epoch #14\tmean reward = 68.890\tepsilon = 0.434\n",
      "epoch #15\tmean reward = 79.840\tepsilon = 0.430\n",
      "epoch #16\tmean reward = 103.020\tepsilon = 0.426\n",
      "epoch #17\tmean reward = 119.220\tepsilon = 0.421\n",
      "epoch #18\tmean reward = 124.540\tepsilon = 0.417\n",
      "epoch #19\tmean reward = 152.500\tepsilon = 0.413\n",
      "epoch #20\tmean reward = 166.600\tepsilon = 0.409\n",
      "epoch #21\tmean reward = 155.230\tepsilon = 0.405\n",
      "epoch #22\tmean reward = 174.370\tepsilon = 0.401\n",
      "epoch #23\tmean reward = 168.980\tepsilon = 0.397\n",
      "epoch #24\tmean reward = 184.100\tepsilon = 0.393\n",
      "epoch #25\tmean reward = 176.270\tepsilon = 0.389\n",
      "epoch #26\tmean reward = 206.660\tepsilon = 0.385\n",
      "epoch #27\tmean reward = 126.800\tepsilon = 0.381\n",
      "epoch #28\tmean reward = 162.100\tepsilon = 0.377\n",
      "epoch #29\tmean reward = 246.670\tepsilon = 0.374\n",
      "epoch #30\tmean reward = 276.910\tepsilon = 0.370\n",
      "epoch #31\tmean reward = 359.180\tepsilon = 0.366\n",
      "You Win!\n"
     ]
    }
   ],
   "execution_count": 20
  },
  {
   "cell_type": "markdown",
   "metadata": {
    "id": "XJPoF9XtEmiB"
   },
   "source": [
    "### How to interpret results\n",
    "\n",
    "\n",
    "Welcome to the f.. world of deep f...n reinforcement learning. Don't expect agent's reward to smoothly go up. Hope for it to go increase eventually. If it deems you worthy.\n",
    "\n",
    "Seriously though,\n",
    "* __ mean reward__ is the average reward per game. For a correct implementation it may stay low for some 10 epochs, then start growing while oscilating insanely and converges by ~50-100 steps depending on the network architecture.\n",
    "* If it never reaches target score by the end of for loop, try increasing the number of hidden neurons or look at the epsilon.\n",
    "* __ epsilon__ - agent's willingness to explore. If you see that agent's already at < 0.01 epsilon before it's is at least 200, just reset it back to 0.1 - 0.5."
   ]
  },
  {
   "cell_type": "markdown",
   "metadata": {
    "id": "lhKiN-qOEmiB"
   },
   "source": [
    "### Record videos\n",
    "\n",
    "As usual, we now use `gymnasium.wrappers.RecordVideo` to record a video of our agent playing the game. Unlike our previous attempts with state binarization, this time we expect our agent to act ~~(or fail)~~ more smoothly since there's no more binarization error at play.\n",
    "\n",
    "As you already did with tabular q-learning, we set epsilon=0 for final evaluation to prevent agent from exploring himself to death."
   ]
  },
  {
   "cell_type": "code",
   "metadata": {
    "id": "2yqPkj6HEmiB",
    "ExecuteTime": {
     "end_time": "2025-08-21T16:23:28.893893Z",
     "start_time": "2025-08-21T16:23:26.241774Z"
    }
   },
   "source": [
    "# Record sessions\n",
    "\n",
    "from gymnasium.wrappers import RecordVideo\n",
    "\n",
    "with gym.make(\"CartPole-v0\", render_mode=\"rgb_array\") as record_env, RecordVideo(\n",
    "    record_env, video_folder=\"videos\"\n",
    ") as env_monitor:\n",
    "    sessions = [\n",
    "        generate_session(env_monitor, epsilon=0, train=False) for _ in range(100)\n",
    "    ]\n"
   ],
   "outputs": [
    {
     "name": "stderr",
     "output_type": "stream",
     "text": [
      "/home/rafkat/my_projects/ReinforcementLearningYandex/.venv/lib/python3.10/site-packages/gymnasium/envs/registration.py:512: DeprecationWarning: \u001B[33mWARN: The environment CartPole-v0 is out of date. You should consider upgrading to version `v1`.\u001B[0m\n",
      "  logger.deprecation(\n"
     ]
    }
   ],
   "execution_count": 21
  },
  {
   "cell_type": "code",
   "metadata": {
    "id": "afqi2qomEmiC",
    "ExecuteTime": {
     "end_time": "2025-08-21T16:23:32.710217Z",
     "start_time": "2025-08-21T16:23:32.706901Z"
    }
   },
   "source": [
    "# Show video. This may not work in some setups. If it doesn't\n",
    "# work for you, you can download the videos and view them locally.\n",
    "\n",
    "from pathlib import Path\n",
    "from base64 import b64encode\n",
    "from IPython.display import HTML\n",
    "\n",
    "video_paths = sorted([s for s in Path('videos').iterdir() if s.suffix == '.mp4'])\n",
    "video_path = video_paths[-1]  # You can also try other indices\n",
    "\n",
    "if 'google.colab' in sys.modules:\n",
    "    # https://stackoverflow.com/a/57378660/1214547\n",
    "    with video_path.open('rb') as fp:\n",
    "        mp4 = fp.read()\n",
    "    data_url = 'data:video/mp4;base64,' + b64encode(mp4).decode()\n",
    "else:\n",
    "    data_url = str(video_path)\n",
    "\n",
    "HTML(\"\"\"\n",
    "<video width=\"640\" height=\"480\" controls>\n",
    "  <source src=\"{}\" type=\"video/mp4\">\n",
    "</video>\n",
    "\"\"\".format(data_url))"
   ],
   "outputs": [
    {
     "data": {
      "text/plain": [
       "<IPython.core.display.HTML object>"
      ],
      "text/html": [
       "\n",
       "<video width=\"640\" height=\"480\" controls>\n",
       "  <source src=\"videos/rl-video-episode-8.mp4\" type=\"video/mp4\">\n",
       "</video>\n"
      ]
     },
     "execution_count": 22,
     "metadata": {},
     "output_type": "execute_result"
    }
   ],
   "execution_count": 22
  },
  {
   "metadata": {},
   "cell_type": "code",
   "outputs": [],
   "execution_count": null,
   "source": ""
  }
 ],
 "metadata": {
  "colab": {
   "provenance": []
  },
  "kernelspec": {
   "display_name": "Python 3 (ipykernel)",
   "name": "python3",
   "language": "python"
  },
  "language_info": {
   "name": "python"
  }
 },
 "nbformat": 4,
 "nbformat_minor": 0
}
